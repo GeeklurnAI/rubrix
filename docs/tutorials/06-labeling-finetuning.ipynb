{
 "cells": [
  {
   "cell_type": "markdown",
   "id": "d018ede1-93e5-44f7-a8b8-ea8436d063c1",
   "metadata": {},
   "source": [
    "# 🏷️ How to label your data and fine-tune a 🤗 sentiment classifier\n",
    "\n",
    "This tutorial will show you how to fine-tune a sentiment classifier for your own domain starting with no labeled data.\n",
    "\n",
    "Most online tutorials about fine-tuning models assume you already have a training dataset. You'll find many tutorials showing you how to fine-tune a pre-trained model with widely-used datasets, such as IMDB for sentiment analysis. \n",
    "\n",
    "However, very often **what you want is to fine-tune a model for your use case**. It's well-known that NLP model performance degrades with \"out-of-domain\" data. For example, a sentiment classifier pre-trained on movie reviews (e.g., IMDB) will not perform very well with customer requests.\n",
    "\n",
    "In this tutorial, we will build a sentiment classifier for user requests in the banking domain. To do this, we will: \n",
    "\n",
    "- Start with the most popular sentiment classifier on the Hugging Face Hub (2.3 million downloads as of July 2021) which has been fine-tuned on the SST2 sentiment dataset. \n",
    "\n",
    "- Label a training dataset with banking user requests starting with the pre-trained sentiment classifier predictions.\n",
    "\n",
    "- Fine-tune the pre-trained classifier with your training dataset.\n",
    "\n",
    "- Label more data by correcting the predictions of the fine-tuned model.\n",
    "\n",
    "\n",
    "![Labeling workflow](img/labeling_tutorial/workflow.svg \"Labeling workflow\")"
   ]
  },
  {
   "cell_type": "markdown",
   "id": "2697c2cd-d6d1-45fb-97b6-2bf2b97d60c0",
   "metadata": {},
   "source": [
    "## Preliminaries\n",
    "\n",
    "### Dataset: BANKING 77\n"
   ]
  },
  {
   "cell_type": "code",
   "execution_count": 7,
   "id": "73889eff-4214-4d49-bec9-816d5bf83175",
   "metadata": {},
   "outputs": [
    {
     "name": "stderr",
     "output_type": "stream",
     "text": [
      "Using custom data configuration default\n",
      "Reusing dataset banking77 (/Users/dani/.cache/huggingface/datasets/banking77/default/1.1.0/aec0289529599d4572d76ab00c8944cb84f88410ad0c9e7da26189d31f62a55b)\n"
     ]
    },
    {
     "data": {
      "text/plain": [
       "DatasetDict({\n",
       "    train: Dataset({\n",
       "        features: ['label', 'text'],\n",
       "        num_rows: 10003\n",
       "    })\n",
       "    test: Dataset({\n",
       "        features: ['label', 'text'],\n",
       "        num_rows: 3080\n",
       "    })\n",
       "})"
      ]
     },
     "execution_count": 7,
     "metadata": {},
     "output_type": "execute_result"
    }
   ],
   "source": [
    "from datasets import load_dataset\n",
    "\n",
    "banking_ds = load_dataset(\"banking77\") ; banking_ds"
   ]
  },
  {
   "cell_type": "code",
   "execution_count": 22,
   "id": "d4128da4-9dc5-4ac6-aa8a-f6ec7d303e89",
   "metadata": {},
   "outputs": [
    {
     "name": "stderr",
     "output_type": "stream",
     "text": [
      "Loading cached split indices for dataset at /Users/dani/.cache/huggingface/datasets/banking77/default/1.1.0/aec0289529599d4572d76ab00c8944cb84f88410ad0c9e7da26189d31f62a55b/cache-19f5b897c66c7f91.arrow and /Users/dani/.cache/huggingface/datasets/banking77/default/1.1.0/aec0289529599d4572d76ab00c8944cb84f88410ad0c9e7da26189d31f62a55b/cache-059505c4ae6201d3.arrow\n"
     ]
    }
   ],
   "source": [
    "to_label1, to_label2 = banking_ds['train'].train_test_split(test_size=0.5).values()"
   ]
  },
  {
   "cell_type": "markdown",
   "id": "d1a7c761-0240-4d64-85e7-8f2a32882d26",
   "metadata": {},
   "source": [
    "### Model: Sentiment distilbert fine-tuned on sst-2"
   ]
  },
  {
   "cell_type": "code",
   "execution_count": 23,
   "id": "498b7a66-8554-43fb-9ae1-c6bed273158d",
   "metadata": {},
   "outputs": [],
   "source": [
    "from transformers import pipeline\n",
    "\n",
    "sentiment_classifier = pipeline(\n",
    "    model=\"distilbert-base-uncased-finetuned-sst-2-english\",\n",
    "    task=\"sentiment-analysis\", \n",
    "    return_all_scores=True,\n",
    ")"
   ]
  },
  {
   "cell_type": "markdown",
   "id": "dd871f0a-6056-4663-81f1-fc74a9cc03bb",
   "metadata": {},
   "source": [
    "## Run pre-trained model on raw dataset"
   ]
  },
  {
   "cell_type": "code",
   "execution_count": 24,
   "id": "a1a3e792-f31c-4449-a6b7-697107013c5a",
   "metadata": {},
   "outputs": [],
   "source": [
    "import rubrix as rb"
   ]
  },
  {
   "cell_type": "code",
   "execution_count": 25,
   "id": "dfdbab73-3316-47d5-8545-2cacbe076b05",
   "metadata": {},
   "outputs": [],
   "source": [
    "def predict(examples):\n",
    "    return {\"predictions\": sentiment_classifier(examples['text'], truncation=True)}"
   ]
  },
  {
   "cell_type": "code",
   "execution_count": 26,
   "id": "4064d185-e020-49c1-bc7f-29bdda8648b9",
   "metadata": {},
   "outputs": [
    {
     "data": {
      "application/vnd.jupyter.widget-view+json": {
       "model_id": "773f472ebe2443a3990e4bcc4a790400",
       "version_major": 2,
       "version_minor": 0
      },
      "text/plain": [
       "HBox(children=(FloatProgress(value=0.0, max=1251.0), HTML(value='')))"
      ]
     },
     "metadata": {},
     "output_type": "display_data"
    },
    {
     "name": "stdout",
     "output_type": "stream",
     "text": [
      "\n"
     ]
    }
   ],
   "source": [
    "to_label1 = to_label1.map(predict, batched=True, batch_size=4)  "
   ]
  },
  {
   "cell_type": "code",
   "execution_count": 29,
   "id": "c642e5cb-a96d-4bd2-b6f0-c36f7fa3bb65",
   "metadata": {},
   "outputs": [
    {
     "name": "stderr",
     "output_type": "stream",
     "text": [
      "Loading cached shuffled indices for dataset at /Users/dani/.cache/huggingface/datasets/banking77/default/1.1.0/aec0289529599d4572d76ab00c8944cb84f88410ad0c9e7da26189d31f62a55b/cache-e084c7ecb48c6090.arrow\n"
     ]
    }
   ],
   "source": [
    "records = []\n",
    "for example in to_label1.shuffle():\n",
    "    record = rb.TextClassificationRecord(\n",
    "        inputs=example[\"text\"],\n",
    "        metadata={'category': example['label']},\n",
    "        prediction=[(pred['label'], pred['score']) for pred in example['predictions']],\n",
    "        prediction_agent=\"distilbert-base-uncased-finetuned-sst-2-english\"\n",
    "    )\n",
    "    records.append(record)"
   ]
  },
  {
   "cell_type": "code",
   "execution_count": 30,
   "id": "20a243e3-aa1f-4cc2-8f3c-ef7890a6e295",
   "metadata": {},
   "outputs": [
    {
     "data": {
      "text/plain": [
       "BulkResponse(dataset='labeling_with_pretrained', processed=5001, failed=0)"
      ]
     },
     "execution_count": 30,
     "metadata": {},
     "output_type": "execute_result"
    }
   ],
   "source": [
    "rb.log(name='labeling_with_pretrained', records=records)"
   ]
  },
  {
   "cell_type": "markdown",
   "id": "5dc4a080-a8e0-4ccb-9252-a32af4849470",
   "metadata": {},
   "source": [
    "## Explore and label data with pretrained model\n",
    "\n",
    "\n",
    "### Labeling random examples\n",
    "\n",
    "![labeling](https://github.com/dvsrepo/imgs/raw/main/labeling_tutorial/1.gif \"labeling\")\n",
    "\n",
    "\n",
    "\n",
    "### Labeling POSITIVE examples"
   ]
  },
  {
   "cell_type": "markdown",
   "id": "2cc5b75c-40ff-46ff-8187-2709173e8bdf",
   "metadata": {},
   "source": [
    "![labeling](https://github.com/dvsrepo/imgs/raw/main/labeling_tutorial/2.gif \"labeling\")"
   ]
  },
  {
   "cell_type": "markdown",
   "id": "6d83a1d6-9700-4f13-ad01-8ac1d00b1260",
   "metadata": {},
   "source": [
    "## Fine-tune pre-trained model"
   ]
  },
  {
   "cell_type": "code",
   "execution_count": 31,
   "id": "b1b331bd-e4e0-41b5-9370-28f8aac01aab",
   "metadata": {},
   "outputs": [],
   "source": [
    "rb_df = rb.load(name='labeling_with_pretrained')"
   ]
  },
  {
   "cell_type": "code",
   "execution_count": 37,
   "id": "c62f17ce-8bc4-489f-ac09-ad1469f5f004",
   "metadata": {},
   "outputs": [
    {
     "data": {
      "text/plain": [
       "229"
      ]
     },
     "execution_count": 37,
     "metadata": {},
     "output_type": "execute_result"
    }
   ],
   "source": [
    "rb_df = rb_df[rb_df.status == \"Validated\"] ; len(rb_df)"
   ]
  },
  {
   "cell_type": "code",
   "execution_count": 38,
   "id": "207a8c3f-f5c9-4bd3-baed-3edd804a5f4d",
   "metadata": {},
   "outputs": [
    {
     "data": {
      "text/html": [
       "<div>\n",
       "<style scoped>\n",
       "    .dataframe tbody tr th:only-of-type {\n",
       "        vertical-align: middle;\n",
       "    }\n",
       "\n",
       "    .dataframe tbody tr th {\n",
       "        vertical-align: top;\n",
       "    }\n",
       "\n",
       "    .dataframe thead th {\n",
       "        text-align: right;\n",
       "    }\n",
       "</style>\n",
       "<table border=\"1\" class=\"dataframe\">\n",
       "  <thead>\n",
       "    <tr style=\"text-align: right;\">\n",
       "      <th></th>\n",
       "      <th>inputs</th>\n",
       "      <th>prediction</th>\n",
       "      <th>annotation</th>\n",
       "      <th>prediction_agent</th>\n",
       "      <th>annotation_agent</th>\n",
       "      <th>multi_label</th>\n",
       "      <th>explanation</th>\n",
       "      <th>id</th>\n",
       "      <th>metadata</th>\n",
       "      <th>status</th>\n",
       "      <th>event_timestamp</th>\n",
       "      <th>text</th>\n",
       "    </tr>\n",
       "  </thead>\n",
       "  <tbody>\n",
       "    <tr>\n",
       "      <th>4771</th>\n",
       "      <td>{'text': 'I saw there is a cash withdrawal fro...</td>\n",
       "      <td>[(NEGATIVE, 0.9997006654739381), (POSITIVE, 0....</td>\n",
       "      <td>[NEGATIVE]</td>\n",
       "      <td>distilbert-base-uncased-finetuned-sst-2-english</td>\n",
       "      <td>.local-Rubrix</td>\n",
       "      <td>False</td>\n",
       "      <td>None</td>\n",
       "      <td>0001e324-3247-4716-addc-d9d9c83fd8f9</td>\n",
       "      <td>{'category': 20}</td>\n",
       "      <td>Validated</td>\n",
       "      <td>None</td>\n",
       "      <td>I saw there is a cash withdrawal from my accou...</td>\n",
       "    </tr>\n",
       "    <tr>\n",
       "      <th>4772</th>\n",
       "      <td>{'text': 'Why is it showing that my account ha...</td>\n",
       "      <td>[(NEGATIVE, 0.9991878271102901), (POSITIVE, 0....</td>\n",
       "      <td>[NEGATIVE]</td>\n",
       "      <td>distilbert-base-uncased-finetuned-sst-2-english</td>\n",
       "      <td>.local-Rubrix</td>\n",
       "      <td>False</td>\n",
       "      <td>None</td>\n",
       "      <td>0017e5c9-c135-44b9-8efb-a17ffecdbe68</td>\n",
       "      <td>{'category': 34}</td>\n",
       "      <td>Validated</td>\n",
       "      <td>None</td>\n",
       "      <td>Why is it showing that my account has been cha...</td>\n",
       "    </tr>\n",
       "    <tr>\n",
       "      <th>4773</th>\n",
       "      <td>{'text': 'I thought I lost my card but I found...</td>\n",
       "      <td>[(POSITIVE, 0.9842885732650751), (NEGATIVE, 0....</td>\n",
       "      <td>[POSITIVE]</td>\n",
       "      <td>distilbert-base-uncased-finetuned-sst-2-english</td>\n",
       "      <td>.local-Rubrix</td>\n",
       "      <td>False</td>\n",
       "      <td>None</td>\n",
       "      <td>0048ccce-8c9f-453d-81b1-a966695e579c</td>\n",
       "      <td>{'category': 13}</td>\n",
       "      <td>Validated</td>\n",
       "      <td>None</td>\n",
       "      <td>I thought I lost my card but I found it today,...</td>\n",
       "    </tr>\n",
       "    <tr>\n",
       "      <th>4774</th>\n",
       "      <td>{'text': 'I wanted to top up my account and it...</td>\n",
       "      <td>[(NEGATIVE, 0.999732434749603), (POSITIVE, 0.0...</td>\n",
       "      <td>[NEGATIVE]</td>\n",
       "      <td>distilbert-base-uncased-finetuned-sst-2-english</td>\n",
       "      <td>.local-Rubrix</td>\n",
       "      <td>False</td>\n",
       "      <td>None</td>\n",
       "      <td>0046aadc-2344-40d2-a930-81f00687bf44</td>\n",
       "      <td>{'category': 59}</td>\n",
       "      <td>Validated</td>\n",
       "      <td>None</td>\n",
       "      <td>I wanted to top up my account and it doesn't l...</td>\n",
       "    </tr>\n",
       "    <tr>\n",
       "      <th>4775</th>\n",
       "      <td>{'text': 'I need to deposit my virtual card, h...</td>\n",
       "      <td>[(NEGATIVE, 0.9992493987083431), (POSITIVE, 0....</td>\n",
       "      <td>[POSITIVE]</td>\n",
       "      <td>distilbert-base-uncased-finetuned-sst-2-english</td>\n",
       "      <td>.local-Rubrix</td>\n",
       "      <td>False</td>\n",
       "      <td>None</td>\n",
       "      <td>00071745-741d-4555-82b3-54d25db44c38</td>\n",
       "      <td>{'category': 37}</td>\n",
       "      <td>Validated</td>\n",
       "      <td>None</td>\n",
       "      <td>I need to deposit my virtual card, how do i do...</td>\n",
       "    </tr>\n",
       "  </tbody>\n",
       "</table>\n",
       "</div>"
      ],
      "text/plain": [
       "                                                 inputs  \\\n",
       "4771  {'text': 'I saw there is a cash withdrawal fro...   \n",
       "4772  {'text': 'Why is it showing that my account ha...   \n",
       "4773  {'text': 'I thought I lost my card but I found...   \n",
       "4774  {'text': 'I wanted to top up my account and it...   \n",
       "4775  {'text': 'I need to deposit my virtual card, h...   \n",
       "\n",
       "                                             prediction  annotation  \\\n",
       "4771  [(NEGATIVE, 0.9997006654739381), (POSITIVE, 0....  [NEGATIVE]   \n",
       "4772  [(NEGATIVE, 0.9991878271102901), (POSITIVE, 0....  [NEGATIVE]   \n",
       "4773  [(POSITIVE, 0.9842885732650751), (NEGATIVE, 0....  [POSITIVE]   \n",
       "4774  [(NEGATIVE, 0.999732434749603), (POSITIVE, 0.0...  [NEGATIVE]   \n",
       "4775  [(NEGATIVE, 0.9992493987083431), (POSITIVE, 0....  [POSITIVE]   \n",
       "\n",
       "                                     prediction_agent annotation_agent  \\\n",
       "4771  distilbert-base-uncased-finetuned-sst-2-english    .local-Rubrix   \n",
       "4772  distilbert-base-uncased-finetuned-sst-2-english    .local-Rubrix   \n",
       "4773  distilbert-base-uncased-finetuned-sst-2-english    .local-Rubrix   \n",
       "4774  distilbert-base-uncased-finetuned-sst-2-english    .local-Rubrix   \n",
       "4775  distilbert-base-uncased-finetuned-sst-2-english    .local-Rubrix   \n",
       "\n",
       "      multi_label explanation                                    id  \\\n",
       "4771        False        None  0001e324-3247-4716-addc-d9d9c83fd8f9   \n",
       "4772        False        None  0017e5c9-c135-44b9-8efb-a17ffecdbe68   \n",
       "4773        False        None  0048ccce-8c9f-453d-81b1-a966695e579c   \n",
       "4774        False        None  0046aadc-2344-40d2-a930-81f00687bf44   \n",
       "4775        False        None  00071745-741d-4555-82b3-54d25db44c38   \n",
       "\n",
       "              metadata     status event_timestamp  \\\n",
       "4771  {'category': 20}  Validated            None   \n",
       "4772  {'category': 34}  Validated            None   \n",
       "4773  {'category': 13}  Validated            None   \n",
       "4774  {'category': 59}  Validated            None   \n",
       "4775  {'category': 37}  Validated            None   \n",
       "\n",
       "                                                   text  \n",
       "4771  I saw there is a cash withdrawal from my accou...  \n",
       "4772  Why is it showing that my account has been cha...  \n",
       "4773  I thought I lost my card but I found it today,...  \n",
       "4774  I wanted to top up my account and it doesn't l...  \n",
       "4775  I need to deposit my virtual card, how do i do...  "
      ]
     },
     "execution_count": 38,
     "metadata": {},
     "output_type": "execute_result"
    }
   ],
   "source": [
    "rb_df.head()"
   ]
  },
  {
   "cell_type": "code",
   "execution_count": 40,
   "id": "fdc7dab5-164b-4013-ba06-41c94cccc926",
   "metadata": {},
   "outputs": [
    {
     "data": {
      "application/vnd.jupyter.widget-view+json": {
       "model_id": "01b14fbf60194fd9bf46720c14e323a0",
       "version_major": 2,
       "version_minor": 0
      },
      "text/plain": [
       "HBox(children=(FloatProgress(value=0.0, max=229.0), HTML(value='')))"
      ]
     },
     "metadata": {},
     "output_type": "display_data"
    },
    {
     "name": "stdout",
     "output_type": "stream",
     "text": [
      "\n"
     ]
    }
   ],
   "source": [
    "from datasets import Dataset\n",
    "\n",
    "rb_df['text'] = rb_df.inputs.transform(lambda r: r['text'])\n",
    "\n",
    "rb_df['labels'] = rb_df.annotation.transform(lambda r: r[0])\n",
    "\n",
    "label2id = {\"NEGATIVE\": 0, \"POSITIVE\": 1}\n",
    "\n",
    "\n",
    "# create 🤗 dataset from pandas with labels as numeric ids\n",
    "train_ds = Dataset.from_pandas(rb_df[['text', 'labels']])\n",
    "train_ds = train_ds.map(lambda example: {'labels': label2id[example['labels']]})"
   ]
  },
  {
   "cell_type": "code",
   "execution_count": 41,
   "id": "130a2377-3009-47a8-9f5f-a883eae51d90",
   "metadata": {},
   "outputs": [
    {
     "data": {
      "text/plain": [
       "DatasetDict({\n",
       "    train: Dataset({\n",
       "        features: ['__index_level_0__', 'labels', 'text'],\n",
       "        num_rows: 183\n",
       "    })\n",
       "    test: Dataset({\n",
       "        features: ['__index_level_0__', 'labels', 'text'],\n",
       "        num_rows: 46\n",
       "    })\n",
       "})"
      ]
     },
     "execution_count": 41,
     "metadata": {},
     "output_type": "execute_result"
    }
   ],
   "source": [
    "train_ds = train_ds.train_test_split(test_size=0.2) ; train_ds"
   ]
  },
  {
   "cell_type": "code",
   "execution_count": 46,
   "id": "90ea5cc1-f634-4c66-9150-eb0ec48c478f",
   "metadata": {},
   "outputs": [],
   "source": [
    "from transformers import AutoTokenizer, AutoModelForSequenceClassification\n",
    "  \n",
    "tokenizer = AutoTokenizer.from_pretrained(\"distilbert-base-uncased-finetuned-sst-2-english\")\n",
    "\n",
    "model = AutoModelForSequenceClassification.from_pretrained(\"distilbert-base-uncased-finetuned-sst-2-english\")"
   ]
  },
  {
   "cell_type": "code",
   "execution_count": 51,
   "id": "209c2fc4-78b2-43b0-8e19-2f2c899e2753",
   "metadata": {},
   "outputs": [
    {
     "data": {
      "application/vnd.jupyter.widget-view+json": {
       "model_id": "e64a6f332a1c4625a2bd8915ef36b81f",
       "version_major": 2,
       "version_minor": 0
      },
      "text/plain": [
       "HBox(children=(FloatProgress(value=0.0, max=1.0), HTML(value='')))"
      ]
     },
     "metadata": {},
     "output_type": "display_data"
    },
    {
     "name": "stdout",
     "output_type": "stream",
     "text": [
      "\n"
     ]
    },
    {
     "data": {
      "application/vnd.jupyter.widget-view+json": {
       "model_id": "71e705a9166742af90d90d22fbd609f5",
       "version_major": 2,
       "version_minor": 0
      },
      "text/plain": [
       "HBox(children=(FloatProgress(value=0.0, max=1.0), HTML(value='')))"
      ]
     },
     "metadata": {},
     "output_type": "display_data"
    },
    {
     "name": "stdout",
     "output_type": "stream",
     "text": [
      "\n"
     ]
    },
    {
     "data": {
      "text/html": [
       "\n",
       "    <div>\n",
       "        <style>\n",
       "            /* Turns off some styling */\n",
       "            progress {\n",
       "                /* gets rid of default border in Firefox and Opera. */\n",
       "                border: none;\n",
       "                /* Needs to be in here for Safari polyfill so background images work as expected. */\n",
       "                background-size: auto;\n",
       "            }\n",
       "        </style>\n",
       "      \n",
       "      <progress value='69' max='69' style='width:300px; height:20px; vertical-align: middle;'></progress>\n",
       "      [69/69 21:42, Epoch 3/3]\n",
       "    </div>\n",
       "    <table border=\"1\" class=\"dataframe\">\n",
       "  <thead>\n",
       "    <tr style=\"text-align: left;\">\n",
       "      <th>Epoch</th>\n",
       "      <th>Training Loss</th>\n",
       "      <th>Validation Loss</th>\n",
       "      <th>Accuracy</th>\n",
       "      <th>Runtime</th>\n",
       "      <th>Samples Per Second</th>\n",
       "    </tr>\n",
       "  </thead>\n",
       "  <tbody>\n",
       "    <tr>\n",
       "      <td>1</td>\n",
       "      <td>No log</td>\n",
       "      <td>0.520485</td>\n",
       "      <td>0.760870</td>\n",
       "      <td>27.056500</td>\n",
       "      <td>1.700000</td>\n",
       "    </tr>\n",
       "    <tr>\n",
       "      <td>2</td>\n",
       "      <td>No log</td>\n",
       "      <td>0.632395</td>\n",
       "      <td>0.739130</td>\n",
       "      <td>32.540300</td>\n",
       "      <td>1.414000</td>\n",
       "    </tr>\n",
       "    <tr>\n",
       "      <td>3</td>\n",
       "      <td>No log</td>\n",
       "      <td>0.655101</td>\n",
       "      <td>0.760870</td>\n",
       "      <td>29.531900</td>\n",
       "      <td>1.558000</td>\n",
       "    </tr>\n",
       "  </tbody>\n",
       "</table><p>"
      ],
      "text/plain": [
       "<IPython.core.display.HTML object>"
      ]
     },
     "metadata": {},
     "output_type": "display_data"
    },
    {
     "data": {
      "text/plain": [
       "TrainOutput(global_step=69, training_loss=0.39967987502830615, metrics={'train_runtime': 1322.9033, 'train_samples_per_second': 0.052, 'total_flos': 112921499105280, 'epoch': 3.0})"
      ]
     },
     "execution_count": 51,
     "metadata": {},
     "output_type": "execute_result"
    }
   ],
   "source": [
    "import numpy as np\n",
    "from transformers import Trainer\n",
    "from datasets import load_metric\n",
    "from transformers import TrainingArguments\n",
    "\n",
    "training_args = TrainingArguments(\n",
    "    \"trainer_experiment\", \n",
    "    evaluation_strategy=\"epoch\",\n",
    "    logging_steps=30\n",
    ")\n",
    "\n",
    "def tokenize_function(examples):\n",
    "    return tokenizer(examples[\"text\"], padding=\"max_length\", truncation=True)\n",
    "\n",
    "\n",
    "metric = load_metric(\"accuracy\")\n",
    "\n",
    "def compute_metrics(eval_pred):\n",
    "    logits, labels = eval_pred\n",
    "    predictions = np.argmax(logits, axis=-1)\n",
    "    return metric.compute(predictions=predictions, references=labels)\n",
    "\n",
    "train_dataset = train_ds['train'].map(tokenize_function, batched=True).shuffle(seed=42)\n",
    "eval_dataset = train_ds['test'].map(tokenize_function, batched=True).shuffle(seed=42)\n",
    "\n",
    "trainer = Trainer(\n",
    "    args=training_args,\n",
    "    model=model, \n",
    "    train_dataset=train_dataset, \n",
    "    eval_dataset=eval_dataset, \n",
    "    compute_metrics=compute_metrics,\n",
    ")\n",
    "\n",
    "trainer.train()"
   ]
  },
  {
   "cell_type": "code",
   "execution_count": 53,
   "id": "8350b564-7564-42ca-88c1-9620faeadeb2",
   "metadata": {},
   "outputs": [],
   "source": [
    "model.save_pretrained('distilbert-base-uncased-banking77-sentiment')"
   ]
  },
  {
   "cell_type": "markdown",
   "id": "7703d9a4-bfce-466f-accc-65f65a784f2d",
   "metadata": {},
   "source": [
    "## Testing the fine-tuned model and preparing a new dataset for labeling"
   ]
  },
  {
   "cell_type": "code",
   "execution_count": 54,
   "id": "b7aa3305-78bc-4316-a886-0c5b3e95d99d",
   "metadata": {},
   "outputs": [],
   "source": [
    "ft_sentiment_classifier = pipeline(\n",
    "    model=model, \n",
    "    tokenizer=tokenizer, \n",
    "    task=\"sentiment-analysis\", \n",
    "    return_all_scores=True\n",
    ")"
   ]
  },
  {
   "cell_type": "code",
   "execution_count": 58,
   "id": "8cad3506-fa39-40f9-9dc5-99aaf23e7700",
   "metadata": {},
   "outputs": [
    {
     "data": {
      "text/plain": [
       "([[{'label': 'NEGATIVE', 'score': 0.0009169924887828529},\n",
       "   {'label': 'POSITIVE', 'score': 0.9990829825401306}]],\n",
       " [[{'label': 'NEGATIVE', 'score': 0.9992493987083435},\n",
       "   {'label': 'POSITIVE', 'score': 0.0007506058318540454}]])"
      ]
     },
     "execution_count": 58,
     "metadata": {},
     "output_type": "execute_result"
    }
   ],
   "source": [
    "ft_sentiment_classifier(\n",
    "    'I need to deposit my virtual card, how do i do that.'\n",
    "), sentiment_classifier(\n",
    "    'I need to deposit my virtual card, how do i do that.'\n",
    ")"
   ]
  },
  {
   "cell_type": "code",
   "execution_count": 59,
   "id": "62066df5-4900-4df0-b504-499bcea85955",
   "metadata": {},
   "outputs": [
    {
     "data": {
      "text/plain": [
       "4771"
      ]
     },
     "execution_count": 59,
     "metadata": {},
     "output_type": "execute_result"
    }
   ],
   "source": [
    "rb_df = rb.load(name='labeling_with_pretrained')\n",
    "rb_df = rb_df[rb_df.status == \"Default\"] ; len(rb_df)"
   ]
  },
  {
   "cell_type": "code",
   "execution_count": 63,
   "id": "444040ee-c13a-4907-a1a5-6b4c1368afbe",
   "metadata": {},
   "outputs": [],
   "source": [
    "rb_df['text'] = rb_df.inputs.transform(lambda r: r['text'])"
   ]
  },
  {
   "cell_type": "code",
   "execution_count": 64,
   "id": "d00c4121-f8b0-48f4-b7e2-eb02a18e63af",
   "metadata": {},
   "outputs": [],
   "source": [
    "ds = Dataset.from_pandas(rb_df[['text']])"
   ]
  },
  {
   "cell_type": "code",
   "execution_count": 65,
   "id": "b387ffb2-35b0-42f5-b23a-c09074722838",
   "metadata": {},
   "outputs": [],
   "source": [
    "def predict(examples):\n",
    "    return {\"predictions\": ft_sentiment_classifier(examples['text'])}"
   ]
  },
  {
   "cell_type": "code",
   "execution_count": 66,
   "id": "f1f16fdc-5c34-49c9-8453-9d56ddbcd044",
   "metadata": {},
   "outputs": [
    {
     "data": {
      "application/vnd.jupyter.widget-view+json": {
       "model_id": "66b194aa0b0c45ef9ecee8dd9e24eb9d",
       "version_major": 2,
       "version_minor": 0
      },
      "text/plain": [
       "HBox(children=(FloatProgress(value=0.0, max=597.0), HTML(value='')))"
      ]
     },
     "metadata": {},
     "output_type": "display_data"
    },
    {
     "name": "stdout",
     "output_type": "stream",
     "text": [
      "\n"
     ]
    }
   ],
   "source": [
    "ds = ds.map(predict, batched=True, batch_size=8) "
   ]
  },
  {
   "cell_type": "code",
   "execution_count": 67,
   "id": "55a373c8-fc54-4c78-8198-4163dd352dec",
   "metadata": {},
   "outputs": [],
   "source": [
    "records = []\n",
    "for example in ds.shuffle():\n",
    "    record = rb.TextClassificationRecord(\n",
    "        inputs=example[\"text\"],\n",
    "        prediction=[(pred['label'], pred['score']) for pred in example['predictions']],\n",
    "        prediction_agent=\"distilbert-base-uncased-banking77-sentiment\"\n",
    "    )\n",
    "    records.append(record)"
   ]
  },
  {
   "cell_type": "code",
   "execution_count": 68,
   "id": "e6594400-0605-44a4-b0cd-e3f7c0401189",
   "metadata": {},
   "outputs": [
    {
     "data": {
      "text/plain": [
       "BulkResponse(dataset='labeling_with_finetuned', processed=4771, failed=0)"
      ]
     },
     "execution_count": 68,
     "metadata": {},
     "output_type": "execute_result"
    },
    {
     "name": "stderr",
     "output_type": "stream",
     "text": [
      "\u001b[34m\u001b[1mwandb\u001b[0m: Network error resolved after 1:33:02.232309, resuming normal operation.\n",
      "\u001b[34m\u001b[1mwandb\u001b[0m: Network error resolved after 0:00:39.029868, resuming normal operation.\n"
     ]
    }
   ],
   "source": [
    "rb.log(name='labeling_with_finetuned', records=records)"
   ]
  },
  {
   "cell_type": "markdown",
   "id": "632e1315-ee55-4c3c-a3d8-1d4f930f0d69",
   "metadata": {},
   "source": [
    "\n",
    "# Explore and label data with the fine-tuned model\n",
    "\n",
    "![labeling](https://github.com/dvsrepo/imgs/raw/main/labeling_tutorial/3.gif \"labeling\")\n"
   ]
  },
  {
   "cell_type": "markdown",
   "id": "b595c332-1d1d-4e15-a22c-7fcbb6556234",
   "metadata": {},
   "source": [
    "## Fine-tuning with more data"
   ]
  },
  {
   "cell_type": "code",
   "execution_count": 72,
   "id": "fafcf0ca-d86e-436e-9670-3680a9746531",
   "metadata": {},
   "outputs": [],
   "source": [
    "def prepare_train_df(dataset_name):\n",
    "    rb_df = rb.load(name=dataset_name)\n",
    "    rb_df = rb_df[rb_df.status == \"Validated\"] ; len(rb_df)\n",
    "    rb_df['text'] = rb_df.inputs.transform(lambda r: r['text'])\n",
    "    rb_df['labels'] = rb_df.annotation.transform(lambda r: r[0])\n",
    "    return rb_df"
   ]
  },
  {
   "cell_type": "code",
   "execution_count": 98,
   "id": "7b9f137b-247c-4575-b092-32ba2e742191",
   "metadata": {},
   "outputs": [
    {
     "data": {
      "text/plain": [
       "83"
      ]
     },
     "execution_count": 98,
     "metadata": {},
     "output_type": "execute_result"
    }
   ],
   "source": [
    "df = prepare_train_df('labeling_with_finetuned') ; len(df)"
   ]
  },
  {
   "cell_type": "code",
   "execution_count": 78,
   "id": "5131a7a2-e621-4f74-9327-9c8866a151f1",
   "metadata": {},
   "outputs": [
    {
     "data": {
      "text/plain": [
       "Dataset({\n",
       "    features: ['__index_level_0__', 'attention_mask', 'input_ids', 'labels', 'text'],\n",
       "    num_rows: 183\n",
       "})"
      ]
     },
     "execution_count": 78,
     "metadata": {},
     "output_type": "execute_result"
    }
   ],
   "source": [
    "train_dataset"
   ]
  },
  {
   "cell_type": "code",
   "execution_count": 85,
   "id": "8819b45e-841f-4070-822a-35a7ab4f2563",
   "metadata": {},
   "outputs": [],
   "source": [
    "train_dataset = train_dataset.remove_columns('__index_level_0__')"
   ]
  },
  {
   "cell_type": "code",
   "execution_count": 96,
   "id": "ce9e243a-61e6-46b4-99e9-9c8617d55161",
   "metadata": {},
   "outputs": [],
   "source": [
    "for i,r in df.iterrows():\n",
    "    tokenization = tokenizer(r[\"text\"], padding=\"max_length\", truncation=True)\n",
    "    train_dataset = train_dataset.add_item({\n",
    "        \"attention_mask\": tokenization[\"attention_mask\"],\n",
    "        \"input_ids\": tokenization[\"input_ids\"],\n",
    "        \"labels\": label2id[r['labels']],\n",
    "        \"text\": r['text'],\n",
    "    })"
   ]
  },
  {
   "cell_type": "code",
   "execution_count": 97,
   "id": "00c77b78-abcb-4864-8776-7ba648698abb",
   "metadata": {},
   "outputs": [
    {
     "data": {
      "text/plain": [
       "Dataset({\n",
       "    features: ['attention_mask', 'input_ids', 'labels', 'text'],\n",
       "    num_rows: 266\n",
       "})"
      ]
     },
     "execution_count": 97,
     "metadata": {},
     "output_type": "execute_result"
    }
   ],
   "source": [
    "train_dataset"
   ]
  },
  {
   "cell_type": "code",
   "execution_count": 99,
   "id": "26336d72-a6da-42ce-b254-3218e872bb4d",
   "metadata": {},
   "outputs": [],
   "source": [
    "tokenizer = AutoTokenizer.from_pretrained(\"distilbert-base-uncased-finetuned-sst-2-english\")\n",
    "\n",
    "model = AutoModelForSequenceClassification.from_pretrained(\"distilbert-base-uncased-finetuned-sst-2-english\")"
   ]
  },
  {
   "cell_type": "code",
   "execution_count": 100,
   "id": "40586f10-53fd-4200-ba73-33901bc343df",
   "metadata": {},
   "outputs": [
    {
     "data": {
      "text/html": [
       "\n",
       "    <div>\n",
       "        <style>\n",
       "            /* Turns off some styling */\n",
       "            progress {\n",
       "                /* gets rid of default border in Firefox and Opera. */\n",
       "                border: none;\n",
       "                /* Needs to be in here for Safari polyfill so background images work as expected. */\n",
       "                background-size: auto;\n",
       "            }\n",
       "        </style>\n",
       "      \n",
       "      <progress value='102' max='102' style='width:300px; height:20px; vertical-align: middle;'></progress>\n",
       "      [102/102 29:35, Epoch 3/3]\n",
       "    </div>\n",
       "    <table border=\"1\" class=\"dataframe\">\n",
       "  <thead>\n",
       "    <tr style=\"text-align: left;\">\n",
       "      <th>Epoch</th>\n",
       "      <th>Training Loss</th>\n",
       "      <th>Validation Loss</th>\n",
       "      <th>Accuracy</th>\n",
       "      <th>Runtime</th>\n",
       "      <th>Samples Per Second</th>\n",
       "    </tr>\n",
       "  </thead>\n",
       "  <tbody>\n",
       "    <tr>\n",
       "      <td>1</td>\n",
       "      <td>0.979600</td>\n",
       "      <td>0.362587</td>\n",
       "      <td>0.847826</td>\n",
       "      <td>26.924800</td>\n",
       "      <td>1.708000</td>\n",
       "    </tr>\n",
       "    <tr>\n",
       "      <td>2</td>\n",
       "      <td>0.311800</td>\n",
       "      <td>0.361794</td>\n",
       "      <td>0.869565</td>\n",
       "      <td>28.729500</td>\n",
       "      <td>1.601000</td>\n",
       "    </tr>\n",
       "    <tr>\n",
       "      <td>3</td>\n",
       "      <td>0.150700</td>\n",
       "      <td>0.441190</td>\n",
       "      <td>0.847826</td>\n",
       "      <td>27.154100</td>\n",
       "      <td>1.694000</td>\n",
       "    </tr>\n",
       "  </tbody>\n",
       "</table><p>"
      ],
      "text/plain": [
       "<IPython.core.display.HTML object>"
      ]
     },
     "metadata": {},
     "output_type": "display_data"
    },
    {
     "name": "stderr",
     "output_type": "stream",
     "text": [
      "\u001b[34m\u001b[1mwandb\u001b[0m: \u001b[33mWARNING\u001b[0m Step must only increase in log calls.  Step 30 < 70; dropping {'train/loss': 0.9796, 'train/learning_rate': 3.529411764705883e-05, 'train/epoch': 0.88}.\n",
      "\u001b[34m\u001b[1mwandb\u001b[0m: \u001b[33mWARNING\u001b[0m Step must only increase in log calls.  Step 34 < 70; dropping {'eval/loss': 0.36258721351623535, 'eval/accuracy': 0.8478260869565217, 'eval/runtime': 26.9248, 'eval/samples_per_second': 1.708, 'train/epoch': 1.0}.\n",
      "\u001b[34m\u001b[1mwandb\u001b[0m: \u001b[33mWARNING\u001b[0m Step must only increase in log calls.  Step 60 < 70; dropping {'train/loss': 0.3118, 'train/learning_rate': 2.058823529411765e-05, 'train/epoch': 1.76}.\n",
      "\u001b[34m\u001b[1mwandb\u001b[0m: \u001b[33mWARNING\u001b[0m Step must only increase in log calls.  Step 68 < 70; dropping {'eval/loss': 0.3617941737174988, 'eval/accuracy': 0.8695652173913043, 'eval/runtime': 28.7295, 'eval/samples_per_second': 1.601, 'train/epoch': 2.0}.\n"
     ]
    },
    {
     "data": {
      "text/plain": [
       "TrainOutput(global_step=102, training_loss=0.4260212887151569, metrics={'train_runtime': 1794.0301, 'train_samples_per_second': 0.057, 'total_flos': 164137260994560, 'epoch': 3.0})"
      ]
     },
     "execution_count": 100,
     "metadata": {},
     "output_type": "execute_result"
    },
    {
     "name": "stderr",
     "output_type": "stream",
     "text": [
      "\u001b[34m\u001b[1mwandb\u001b[0m: Network error resolved after 0:41:46.731045, resuming normal operation.\n"
     ]
    }
   ],
   "source": [
    "train_ds = train_dataset.shuffle(seed=42)\n",
    "\n",
    "trainer = Trainer(\n",
    "    args=training_args,\n",
    "    model=model, \n",
    "    train_dataset=train_dataset, \n",
    "    eval_dataset=eval_dataset, \n",
    "    compute_metrics=compute_metrics,\n",
    ")\n",
    "\n",
    "trainer.train()"
   ]
  }
 ],
 "metadata": {
  "kernelspec": {
   "display_name": "Python 3",
   "language": "python",
   "name": "python3"
  },
  "language_info": {
   "codemirror_mode": {
    "name": "ipython",
    "version": 3
   },
   "file_extension": ".py",
   "mimetype": "text/x-python",
   "name": "python",
   "nbconvert_exporter": "python",
   "pygments_lexer": "ipython3",
   "version": "3.8.5"
  }
 },
 "nbformat": 4,
 "nbformat_minor": 5
}
